{
 "cells": [
  {
   "cell_type": "code",
   "execution_count": 1,
   "metadata": {},
   "outputs": [],
   "source": [
    "import pandas as pd\n",
    "import time\n",
    "from sklearn.model_selection import train_test_split\n",
    "import numpy as np\n",
    "from sklearn.metrics import f1_score\n",
    "from sklearn.metrics import roc_auc_score\n",
    "from sklearn.metrics import precision_score\n",
    "from sklearn.metrics import confusion_matrix"
   ]
  },
  {
   "cell_type": "code",
   "execution_count": 2,
   "metadata": {},
   "outputs": [
    {
     "data": {
      "text/html": [
       "<div>\n",
       "<style scoped>\n",
       "    .dataframe tbody tr th:only-of-type {\n",
       "        vertical-align: middle;\n",
       "    }\n",
       "\n",
       "    .dataframe tbody tr th {\n",
       "        vertical-align: top;\n",
       "    }\n",
       "\n",
       "    .dataframe thead th {\n",
       "        text-align: right;\n",
       "    }\n",
       "</style>\n",
       "<table border=\"1\" class=\"dataframe\">\n",
       "  <thead>\n",
       "    <tr style=\"text-align: right;\">\n",
       "      <th></th>\n",
       "      <th>BMI</th>\n",
       "      <th>4. Age (in years)</th>\n",
       "      <th>5. Height (in cms)</th>\n",
       "      <th>6. Weight (in kgs)</th>\n",
       "      <th>Financial insecurity faced due to lockdown</th>\n",
       "      <th>5. Is not being able to hangout and meet your friends and classmates in any way affecting your mental health?</th>\n",
       "      <th>7. How is home quarantine (unable to go out) impacting you?</th>\n",
       "      <th>8. When did you have more free time?</th>\n",
       "      <th>9. How many days in a week do you practice meditation?</th>\n",
       "      <th>19. Out of the following, choose 5 tools which you use most often these days.</th>\n",
       "      <th>17. Are you happy with online classes?</th>\n",
       "      <th>18. How would you rate your mental well being ?</th>\n",
       "      <th>17. Average sleeping hours per day</th>\n",
       "      <th>5. Problems faced after attending online classes</th>\n",
       "      <th>2. Posture related problems faced after attending online classes</th>\n",
       "      <th>6. How is online classes impacting your academic performance?</th>\n",
       "      <th>Rate_your_mental_well_being</th>\n",
       "      <th>mentalh_level</th>\n",
       "      <th>to</th>\n",
       "    </tr>\n",
       "  </thead>\n",
       "  <tbody>\n",
       "    <tr>\n",
       "      <th>0</th>\n",
       "      <td>27.887617</td>\n",
       "      <td>45</td>\n",
       "      <td>155.0</td>\n",
       "      <td>67.0</td>\n",
       "      <td>6</td>\n",
       "      <td>Yes</td>\n",
       "      <td>No affect</td>\n",
       "      <td>Before lockdown</td>\n",
       "      <td>1</td>\n",
       "      <td>11</td>\n",
       "      <td>No</td>\n",
       "      <td>5</td>\n",
       "      <td>6 to 8 hours</td>\n",
       "      <td>Dry eyes, Blurred vision, Computer eye syndrom...</td>\n",
       "      <td>Back pain, Neck pain, Body aches and pains, hgfhj</td>\n",
       "      <td>negative</td>\n",
       "      <td>5</td>\n",
       "      <td>Bad</td>\n",
       "      <td>0.002789</td>\n",
       "    </tr>\n",
       "    <tr>\n",
       "      <th>1</th>\n",
       "      <td>26.609713</td>\n",
       "      <td>20</td>\n",
       "      <td>169.0</td>\n",
       "      <td>76.0</td>\n",
       "      <td>1</td>\n",
       "      <td>Yes</td>\n",
       "      <td>No affect</td>\n",
       "      <td>Before lockdown</td>\n",
       "      <td>0</td>\n",
       "      <td>11</td>\n",
       "      <td>Yes</td>\n",
       "      <td>10</td>\n",
       "      <td>4 to 6 hours</td>\n",
       "      <td>Dry eyes, Headaches, Fatigue, Itchy eyes</td>\n",
       "      <td>Neck pain, Body aches and pains</td>\n",
       "      <td>No effect</td>\n",
       "      <td>10</td>\n",
       "      <td>Good</td>\n",
       "      <td>0.002661</td>\n",
       "    </tr>\n",
       "    <tr>\n",
       "      <th>2</th>\n",
       "      <td>20.613131</td>\n",
       "      <td>23</td>\n",
       "      <td>151.0</td>\n",
       "      <td>47.0</td>\n",
       "      <td>3</td>\n",
       "      <td>Yes</td>\n",
       "      <td>No affect</td>\n",
       "      <td>After lockdown</td>\n",
       "      <td>0</td>\n",
       "      <td>11</td>\n",
       "      <td>Yes</td>\n",
       "      <td>5</td>\n",
       "      <td>6 to 8 hours</td>\n",
       "      <td>Dry eyes, Red eyes, Blurred vision, Headaches,...</td>\n",
       "      <td>Back pain, Neck pain, Body aches and pains</td>\n",
       "      <td>Unaffected</td>\n",
       "      <td>5</td>\n",
       "      <td>Bad</td>\n",
       "      <td>0.002061</td>\n",
       "    </tr>\n",
       "    <tr>\n",
       "      <th>3</th>\n",
       "      <td>21.224490</td>\n",
       "      <td>19</td>\n",
       "      <td>175.0</td>\n",
       "      <td>65.0</td>\n",
       "      <td>2</td>\n",
       "      <td>Yes</td>\n",
       "      <td>Negative impact</td>\n",
       "      <td>After lockdown</td>\n",
       "      <td>0</td>\n",
       "      <td>12</td>\n",
       "      <td>No</td>\n",
       "      <td>7</td>\n",
       "      <td>8 to 10 hours</td>\n",
       "      <td>Blurred vision, Fatigue, Itchy eyes, Eye strai...</td>\n",
       "      <td>Back pain, Neck pain, Rounded shoulders, Body ...</td>\n",
       "      <td>poor performance</td>\n",
       "      <td>7</td>\n",
       "      <td>Good</td>\n",
       "      <td>0.002122</td>\n",
       "    </tr>\n",
       "    <tr>\n",
       "      <th>4</th>\n",
       "      <td>17.959184</td>\n",
       "      <td>20</td>\n",
       "      <td>175.0</td>\n",
       "      <td>55.0</td>\n",
       "      <td>8</td>\n",
       "      <td>Yes</td>\n",
       "      <td>Negative impact</td>\n",
       "      <td>Before lockdown</td>\n",
       "      <td>0</td>\n",
       "      <td>17</td>\n",
       "      <td>No</td>\n",
       "      <td>4</td>\n",
       "      <td>4 to 6 hours</td>\n",
       "      <td>Red eyes</td>\n",
       "      <td>Neck pain</td>\n",
       "      <td>Badly</td>\n",
       "      <td>4</td>\n",
       "      <td>Bad</td>\n",
       "      <td>0.001796</td>\n",
       "    </tr>\n",
       "    <tr>\n",
       "      <th>...</th>\n",
       "      <td>...</td>\n",
       "      <td>...</td>\n",
       "      <td>...</td>\n",
       "      <td>...</td>\n",
       "      <td>...</td>\n",
       "      <td>...</td>\n",
       "      <td>...</td>\n",
       "      <td>...</td>\n",
       "      <td>...</td>\n",
       "      <td>...</td>\n",
       "      <td>...</td>\n",
       "      <td>...</td>\n",
       "      <td>...</td>\n",
       "      <td>...</td>\n",
       "      <td>...</td>\n",
       "      <td>...</td>\n",
       "      <td>...</td>\n",
       "      <td>...</td>\n",
       "      <td>...</td>\n",
       "    </tr>\n",
       "    <tr>\n",
       "      <th>184</th>\n",
       "      <td>17.474717</td>\n",
       "      <td>36</td>\n",
       "      <td>164.0</td>\n",
       "      <td>47.0</td>\n",
       "      <td>8</td>\n",
       "      <td>No</td>\n",
       "      <td>Negative impact</td>\n",
       "      <td>Unchanged</td>\n",
       "      <td>0</td>\n",
       "      <td>5</td>\n",
       "      <td>No</td>\n",
       "      <td>5</td>\n",
       "      <td>6 to 8 hours</td>\n",
       "      <td>Dry eyes, Headaches, Sensitivity of light</td>\n",
       "      <td>Neck pain</td>\n",
       "      <td>I attended less classes because of covid-19 an...</td>\n",
       "      <td>5</td>\n",
       "      <td>Bad</td>\n",
       "      <td>0.001747</td>\n",
       "    </tr>\n",
       "    <tr>\n",
       "      <th>185</th>\n",
       "      <td>16.528926</td>\n",
       "      <td>16</td>\n",
       "      <td>165.0</td>\n",
       "      <td>45.0</td>\n",
       "      <td>5</td>\n",
       "      <td>Yes</td>\n",
       "      <td>No affect</td>\n",
       "      <td>Unchanged</td>\n",
       "      <td>0</td>\n",
       "      <td>8</td>\n",
       "      <td>No</td>\n",
       "      <td>7</td>\n",
       "      <td>6 to 8 hours</td>\n",
       "      <td>Dry eyes, Red eyes, Headaches, Itchy eyes, Eye...</td>\n",
       "      <td>Rounded shoulders, Head that either leans forw...</td>\n",
       "      <td>Worsening</td>\n",
       "      <td>7</td>\n",
       "      <td>Good</td>\n",
       "      <td>0.001653</td>\n",
       "    </tr>\n",
       "    <tr>\n",
       "      <th>186</th>\n",
       "      <td>22.640865</td>\n",
       "      <td>37</td>\n",
       "      <td>153.0</td>\n",
       "      <td>53.0</td>\n",
       "      <td>4</td>\n",
       "      <td>Yes</td>\n",
       "      <td>Negative impact</td>\n",
       "      <td>After lockdown</td>\n",
       "      <td>3</td>\n",
       "      <td>12</td>\n",
       "      <td>Yes</td>\n",
       "      <td>8</td>\n",
       "      <td>8 to 10 hours</td>\n",
       "      <td>Dry eyes, Blurred vision, Sensitivity of light</td>\n",
       "      <td>Comfortable</td>\n",
       "      <td>Improved concentration</td>\n",
       "      <td>8</td>\n",
       "      <td>Good</td>\n",
       "      <td>0.002264</td>\n",
       "    </tr>\n",
       "    <tr>\n",
       "      <th>187</th>\n",
       "      <td>20.811655</td>\n",
       "      <td>19</td>\n",
       "      <td>155.0</td>\n",
       "      <td>50.0</td>\n",
       "      <td>1</td>\n",
       "      <td>Yes</td>\n",
       "      <td>Negative impact</td>\n",
       "      <td>Unchanged</td>\n",
       "      <td>0</td>\n",
       "      <td>16</td>\n",
       "      <td>No</td>\n",
       "      <td>6</td>\n",
       "      <td>6 to 8 hours</td>\n",
       "      <td>Dry eyes, Red eyes, Blurred vision, Headaches,...</td>\n",
       "      <td>Back pain, Neck pain, Rounded shoulders, Bent ...</td>\n",
       "      <td>Less efficiency</td>\n",
       "      <td>6</td>\n",
       "      <td>Good</td>\n",
       "      <td>0.002081</td>\n",
       "    </tr>\n",
       "    <tr>\n",
       "      <th>188</th>\n",
       "      <td>22.313278</td>\n",
       "      <td>14</td>\n",
       "      <td>157.0</td>\n",
       "      <td>55.0</td>\n",
       "      <td>5</td>\n",
       "      <td>Yes</td>\n",
       "      <td>Negative impact</td>\n",
       "      <td>After lockdown</td>\n",
       "      <td>0</td>\n",
       "      <td>14</td>\n",
       "      <td>No</td>\n",
       "      <td>5</td>\n",
       "      <td>8 to 10 hours</td>\n",
       "      <td>Dry eyes, Red eyes, Blurred vision, Headaches,...</td>\n",
       "      <td>Back pain, Neck pain, Head that either leans f...</td>\n",
       "      <td>it is become worse due to my accident too</td>\n",
       "      <td>5</td>\n",
       "      <td>Bad</td>\n",
       "      <td>0.002231</td>\n",
       "    </tr>\n",
       "  </tbody>\n",
       "</table>\n",
       "<p>189 rows × 19 columns</p>\n",
       "</div>"
      ],
      "text/plain": [
       "           BMI  4. Age (in years)  5. Height (in cms)  6. Weight (in kgs)  \\\n",
       "0    27.887617                 45               155.0                67.0   \n",
       "1    26.609713                 20               169.0                76.0   \n",
       "2    20.613131                 23               151.0                47.0   \n",
       "3    21.224490                 19               175.0                65.0   \n",
       "4    17.959184                 20               175.0                55.0   \n",
       "..         ...                ...                 ...                 ...   \n",
       "184  17.474717                 36               164.0                47.0   \n",
       "185  16.528926                 16               165.0                45.0   \n",
       "186  22.640865                 37               153.0                53.0   \n",
       "187  20.811655                 19               155.0                50.0   \n",
       "188  22.313278                 14               157.0                55.0   \n",
       "\n",
       "      Financial insecurity faced due to lockdown  \\\n",
       "0                                              6   \n",
       "1                                              1   \n",
       "2                                              3   \n",
       "3                                              2   \n",
       "4                                              8   \n",
       "..                                           ...   \n",
       "184                                            8   \n",
       "185                                            5   \n",
       "186                                            4   \n",
       "187                                            1   \n",
       "188                                            5   \n",
       "\n",
       "    5. Is not being able to hangout and meet your friends and classmates in any way affecting your mental health?  \\\n",
       "0                                                  Yes                                                              \n",
       "1                                                  Yes                                                              \n",
       "2                                                  Yes                                                              \n",
       "3                                                  Yes                                                              \n",
       "4                                                  Yes                                                              \n",
       "..                                                 ...                                                              \n",
       "184                                                 No                                                              \n",
       "185                                                Yes                                                              \n",
       "186                                                Yes                                                              \n",
       "187                                                Yes                                                              \n",
       "188                                                Yes                                                              \n",
       "\n",
       "    7. How is home quarantine (unable to go out) impacting you?   \\\n",
       "0                                            No affect             \n",
       "1                                            No affect             \n",
       "2                                            No affect             \n",
       "3                                      Negative impact             \n",
       "4                                      Negative impact             \n",
       "..                                                 ...             \n",
       "184                                    Negative impact             \n",
       "185                                          No affect             \n",
       "186                                    Negative impact             \n",
       "187                                    Negative impact             \n",
       "188                                    Negative impact             \n",
       "\n",
       "    8. When did you have more free time?  \\\n",
       "0                        Before lockdown   \n",
       "1                        Before lockdown   \n",
       "2                         After lockdown   \n",
       "3                         After lockdown   \n",
       "4                        Before lockdown   \n",
       "..                                   ...   \n",
       "184                            Unchanged   \n",
       "185                            Unchanged   \n",
       "186                       After lockdown   \n",
       "187                            Unchanged   \n",
       "188                       After lockdown   \n",
       "\n",
       "     9. How many days in a week do you practice meditation?  \\\n",
       "0                                                    1        \n",
       "1                                                    0        \n",
       "2                                                    0        \n",
       "3                                                    0        \n",
       "4                                                    0        \n",
       "..                                                 ...        \n",
       "184                                                  0        \n",
       "185                                                  0        \n",
       "186                                                  3        \n",
       "187                                                  0        \n",
       "188                                                  0        \n",
       "\n",
       "     19. Out of the following, choose 5 tools which you use most often these days.  \\\n",
       "0                                                   11                               \n",
       "1                                                   11                               \n",
       "2                                                   11                               \n",
       "3                                                   12                               \n",
       "4                                                   17                               \n",
       "..                                                 ...                               \n",
       "184                                                  5                               \n",
       "185                                                  8                               \n",
       "186                                                 12                               \n",
       "187                                                 16                               \n",
       "188                                                 14                               \n",
       "\n",
       "    17. Are you happy with online classes?  \\\n",
       "0                                       No   \n",
       "1                                      Yes   \n",
       "2                                      Yes   \n",
       "3                                       No   \n",
       "4                                       No   \n",
       "..                                     ...   \n",
       "184                                     No   \n",
       "185                                     No   \n",
       "186                                    Yes   \n",
       "187                                     No   \n",
       "188                                     No   \n",
       "\n",
       "     18. How would you rate your mental well being ?  \\\n",
       "0                                                  5   \n",
       "1                                                 10   \n",
       "2                                                  5   \n",
       "3                                                  7   \n",
       "4                                                  4   \n",
       "..                                               ...   \n",
       "184                                                5   \n",
       "185                                                7   \n",
       "186                                                8   \n",
       "187                                                6   \n",
       "188                                                5   \n",
       "\n",
       "    17. Average sleeping hours per day  \\\n",
       "0                         6 to 8 hours   \n",
       "1                         4 to 6 hours   \n",
       "2                         6 to 8 hours   \n",
       "3                        8 to 10 hours   \n",
       "4                         4 to 6 hours   \n",
       "..                                 ...   \n",
       "184                       6 to 8 hours   \n",
       "185                       6 to 8 hours   \n",
       "186                      8 to 10 hours   \n",
       "187                       6 to 8 hours   \n",
       "188                      8 to 10 hours   \n",
       "\n",
       "      5. Problems faced after attending online classes  \\\n",
       "0    Dry eyes, Blurred vision, Computer eye syndrom...   \n",
       "1             Dry eyes, Headaches, Fatigue, Itchy eyes   \n",
       "2    Dry eyes, Red eyes, Blurred vision, Headaches,...   \n",
       "3    Blurred vision, Fatigue, Itchy eyes, Eye strai...   \n",
       "4                                             Red eyes   \n",
       "..                                                 ...   \n",
       "184          Dry eyes, Headaches, Sensitivity of light   \n",
       "185  Dry eyes, Red eyes, Headaches, Itchy eyes, Eye...   \n",
       "186     Dry eyes, Blurred vision, Sensitivity of light   \n",
       "187  Dry eyes, Red eyes, Blurred vision, Headaches,...   \n",
       "188  Dry eyes, Red eyes, Blurred vision, Headaches,...   \n",
       "\n",
       "    2. Posture related problems faced after attending online classes  \\\n",
       "0    Back pain, Neck pain, Body aches and pains, hgfhj                 \n",
       "1                      Neck pain, Body aches and pains                 \n",
       "2           Back pain, Neck pain, Body aches and pains                 \n",
       "3    Back pain, Neck pain, Rounded shoulders, Body ...                 \n",
       "4                                            Neck pain                 \n",
       "..                                                 ...                 \n",
       "184                                          Neck pain                 \n",
       "185  Rounded shoulders, Head that either leans forw...                 \n",
       "186                                       Comfortable                  \n",
       "187  Back pain, Neck pain, Rounded shoulders, Bent ...                 \n",
       "188  Back pain, Neck pain, Head that either leans f...                 \n",
       "\n",
       "    6. How is online classes impacting your academic performance?  \\\n",
       "0                                             negative              \n",
       "1                                           No effect               \n",
       "2                                          Unaffected               \n",
       "3                                     poor performance              \n",
       "4                                                Badly              \n",
       "..                                                 ...              \n",
       "184  I attended less classes because of covid-19 an...              \n",
       "185                                          Worsening              \n",
       "186                            Improved concentration               \n",
       "187                                    Less efficiency              \n",
       "188          it is become worse due to my accident too              \n",
       "\n",
       "     Rate_your_mental_well_being  mentalh_level        to  \n",
       "0                               5           Bad  0.002789  \n",
       "1                              10          Good  0.002661  \n",
       "2                               5           Bad  0.002061  \n",
       "3                               7          Good  0.002122  \n",
       "4                               4           Bad  0.001796  \n",
       "..                            ...           ...       ...  \n",
       "184                             5           Bad  0.001747  \n",
       "185                             7          Good  0.001653  \n",
       "186                             8          Good  0.002264  \n",
       "187                             6          Good  0.002081  \n",
       "188                             5           Bad  0.002231  \n",
       "\n",
       "[189 rows x 19 columns]"
      ]
     },
     "execution_count": 2,
     "metadata": {},
     "output_type": "execute_result"
    }
   ],
   "source": [
    "import pandas as pd\n",
    "import numpy as np\n",
    "df=pd.read_excel(\"F:\\\\Amrita\\\\5th semester_2024\\\\Machine Learning\\\\Lab-3\\\\Project Dataset.xlsx\")\n",
    "df\n"
   ]
  },
  {
   "cell_type": "code",
   "execution_count": 3,
   "metadata": {},
   "outputs": [
    {
     "name": "stdout",
     "output_type": "stream",
     "text": [
      "The good rate mean :  8.891304347826088\n",
      "The bad rate mean :  5.525773195876289\n",
      "The good rate standard deviation :  0.7725806801702982\n",
      "The bad rate standard deviation :  1.3779768787816422\n",
      "The distance between mean vectors between classes :  3.3655311519497992\n"
     ]
    }
   ],
   "source": [
    "#A1\n",
    "Good_rate=[]\n",
    "Bad_rate=[]\n",
    "for index,row in df.iterrows():\n",
    "    if row['Rate_your_mental_well_being ']>=8:\n",
    "        Good_rate.append(row['Rate_your_mental_well_being '])\n",
    "    elif row['Rate_your_mental_well_being ']<8:\n",
    "        Bad_rate.append(row['Rate_your_mental_well_being '])\n",
    "Good_rate_mean=np.mean(Good_rate)\n",
    "Bad_rate_mean=np.mean(Bad_rate)\n",
    "Good_rate_std=np.std(Good_rate)\n",
    "Bad_rate_std=np.std(Bad_rate)\n",
    "Interclass=np.linalg.norm(Bad_rate_mean-Good_rate_mean)\n",
    "print(\"The good rate mean : \",Good_rate_mean)\n",
    "print(\"The bad rate mean : \",Bad_rate_mean)\n",
    "print(\"The good rate standard deviation : \",Good_rate_std)\n",
    "print(\"The bad rate standard deviation : \",Bad_rate_std)\n",
    "print(\"The distance between mean vectors between classes : \",Interclass)"
   ]
  },
  {
   "cell_type": "code",
   "execution_count": 4,
   "metadata": {},
   "outputs": [
    {
     "name": "stdout",
     "output_type": "stream",
     "text": [
      "The good rate mean :  8.891304347826088\n",
      "The bad rate mean :  5.525773195876289\n",
      "The good rate standard deviation :  0.7725806801702982\n",
      "The bad rate standard deviation :  1.3779768787816422\n",
      "The distance between mean vectors between classes :  3.3655311519497992\n"
     ]
    }
   ],
   "source": [
    "#A1\n",
    "Good_rate=[]\n",
    "Bad_rate=[]\n",
    "for index,row in df.iterrows():\n",
    "    if row['Rate_your_mental_well_being ']>=8:\n",
    "        Good_rate.append(row['Rate_your_mental_well_being '])\n",
    "    else:\n",
    "    #elif row['Rate_your_mental_well_being ']<8:\n",
    "        Bad_rate.append(row['Rate_your_mental_well_being '])\n",
    "Good_rate_mean=np.mean(Good_rate)\n",
    "Bad_rate_mean=np.mean(Bad_rate)\n",
    "Good_rate_std=np.std(Good_rate)\n",
    "Bad_rate_std=np.std(Bad_rate)\n",
    "centroid=np.linalg.norm(Bad_rate_mean-Good_rate_mean)\n",
    "print(\"The good rate mean : \",Good_rate_mean)\n",
    "print(\"The bad rate mean : \",Bad_rate_mean)\n",
    "print(\"The good rate standard deviation : \",Good_rate_std)\n",
    "print(\"The bad rate standard deviation : \",Bad_rate_std)\n",
    "print(\"The distance between mean vectors between classes : \",centroid)"
   ]
  },
  {
   "cell_type": "code",
   "execution_count": 5,
   "metadata": {},
   "outputs": [
    {
     "data": {
      "text/plain": [
       "(array([ 1.,  2.,  5., 14., 19., 27., 29., 33., 36., 23.]),\n",
       " array([ 1. ,  1.9,  2.8,  3.7,  4.6,  5.5,  6.4,  7.3,  8.2,  9.1, 10. ]),\n",
       " <BarContainer object of 10 artists>)"
      ]
     },
     "execution_count": 5,
     "metadata": {},
     "output_type": "execute_result"
    },
    {
     "data": {
      "image/png": "[encoded data removed]",
      "text/plain": [
       "<Figure size 500x500 with 1 Axes>"
      ]
     },
     "metadata": {},
     "output_type": "display_data"
    }
   ],
   "source": [
    "#A2\n",
    "import matplotlib.pyplot as plt\n",
    "plt.figure(figsize=(5,5))\n",
    "plt.hist(df['Rate_your_mental_well_being '])\n"
   ]
  },
  {
   "cell_type": "code",
   "execution_count": 6,
   "metadata": {},
   "outputs": [
    {
     "data": {
      "image/png": "[encoded data removed]",
      "text/plain": [
       "<Figure size 640x480 with 1 Axes>"
      ]
     },
     "metadata": {},
     "output_type": "display_data"
    },
    {
     "data": {
      "image/png": "[encoded data removed]",
      "text/plain": [
       "<Figure size 640x480 with 1 Axes>"
      ]
     },
     "metadata": {},
     "output_type": "display_data"
    },
    {
     "name": "stderr",
     "output_type": "stream",
     "text": [
      "c:\\Users\\Hitesh\\AppData\\Local\\Programs\\Python\\Python310\\lib\\site-packages\\numpy\\lib\\histograms.py:852: ComplexWarning: Casting complex values to real discards the imaginary part\n",
      "  indices = f_indices.astype(np.intp)\n",
      "c:\\Users\\Hitesh\\AppData\\Local\\Programs\\Python\\Python310\\lib\\site-packages\\matplotlib\\transforms.py:775: ComplexWarning: Casting complex values to real discards the imaginary part\n",
      "  points = np.asarray(points, float)\n"
     ]
    },
    {
     "data": {
      "image/png": "[encoded data removed]",
      "text/plain": [
       "<Figure size 640x480 with 1 Axes>"
      ]
     },
     "metadata": {},
     "output_type": "display_data"
    },
    {
     "data": {
      "image/png": "[encoded data removed]",
      "text/plain": [
       "<Figure size 640x480 with 1 Axes>"
      ]
     },
     "metadata": {},
     "output_type": "display_data"
    },
    {
     "data": {
      "image/png": "[encoded data removed]",
      "text/plain": [
       "<Figure size 640x480 with 1 Axes>"
      ]
     },
     "metadata": {},
     "output_type": "display_data"
    },
    {
     "data": {
      "image/png": "[encoded data removed]",
      "text/plain": [
       "<Figure size 640x480 with 1 Axes>"
      ]
     },
     "metadata": {},
     "output_type": "display_data"
    },
    {
     "data": {
      "image/png": "[encoded data removed]",
      "text/plain": [
       "<Figure size 640x480 with 1 Axes>"
      ]
     },
     "metadata": {},
     "output_type": "display_data"
    },
    {
     "data": {
      "image/png": "[encoded data removed]",
      "text/plain": [
       "<Figure size 640x480 with 1 Axes>"
      ]
     },
     "metadata": {},
     "output_type": "display_data"
    },
    {
     "data": {
      "image/png": "[encoded data removed]",
      "text/plain": [
       "<Figure size 640x480 with 1 Axes>"
      ]
     },
     "metadata": {},
     "output_type": "display_data"
    },
    {
     "data": {
      "image/png": "[encoded data removed]",
      "text/plain": [
       "<Figure size 640x480 with 1 Axes>"
      ]
     },
     "metadata": {},
     "output_type": "display_data"
    },
    {
     "name": "stdout",
     "output_type": "stream",
     "text": [
      "The Minkowski distance :  [-387.0, 128.58212447702383, (64.00151574457296+110.84862640394898j), (128.00001776218144+1.8757855084236931e-19j), (103.5541752456882+75.23651218785633j), (128.0000000007227+8.57097615863869e-33j), (115.32401509150661+55.537118607043645j), (128.00000000000003+6.064443025810493e-46j), (120.28065546059625+43.77857834568559j), (128.00000000000003+5.561108203778622e-59j)]\n"
     ]
    }
   ],
   "source": [
    "#A3\n",
    "import math\n",
    "FD_1=df.iloc[:,1:2]\n",
    "FD_2=df.iloc[:,2:3]\n",
    "FD1_Array=np.array(FD_1)\n",
    "FD2_Array=np.array(FD_2)\n",
    "Distance=0\n",
    "Minkowski_distance=0\n",
    "r=[]\n",
    "#minkowski distance formula : sum 1 to n ((xi-yi)^r)^1/r\n",
    "for i in range(1,11):\n",
    "    for j in range(0,3):\n",
    "        Distance=(FD1_Array[j]-FD2_Array[j])\n",
    "        Power=math.pow(Distance,i)\n",
    "        Minkowski_distance=Minkowski_distance+Power\n",
    "        Minkowski_distance=pow(Minkowski_distance,1/i)\n",
    "    r.append(Minkowski_distance)\n",
    "    plt.hist(r,bins=10)\n",
    "    plt.show()\n",
    "print(\"The Minkowski distance : \",r)\n"
   ]
  },
  {
   "cell_type": "code",
   "execution_count": 7,
   "metadata": {},
   "outputs": [],
   "source": [
    "from sklearn import preprocessing\n",
    "lc=preprocessing.LabelEncoder()\n",
    "df['5. Is not being able to hangout and meet your friends and classmates in any way affecting your mental health?']=lc.fit_transform(df['5. Is not being able to hangout and meet your friends and classmates in any way affecting your mental health?'])"
   ]
  },
  {
   "cell_type": "code",
   "execution_count": 8,
   "metadata": {},
   "outputs": [
    {
     "name": "stdout",
     "output_type": "stream",
     "text": [
      "[[15]\n",
      " [19]\n",
      " [20]\n",
      " [18]\n",
      " [ 9]\n",
      " [20]\n",
      " [22]\n",
      " [19]\n",
      " [21]\n",
      " [19]\n",
      " [19]\n",
      " [23]\n",
      " [21]\n",
      " [37]\n",
      " [19]\n",
      " [44]\n",
      " [20]\n",
      " [20]\n",
      " [21]\n",
      " [20]\n",
      " [19]\n",
      " [20]\n",
      " [18]\n",
      " [18]\n",
      " [20]\n",
      " [15]\n",
      " [21]\n",
      " [24]\n",
      " [ 9]\n",
      " [42]\n",
      " [19]\n",
      " [21]\n",
      " [36]\n",
      " [21]\n",
      " [37]\n",
      " [19]\n",
      " [40]\n",
      " [21]\n",
      " [20]\n",
      " [19]\n",
      " [19]\n",
      " [12]\n",
      " [14]\n",
      " [19]\n",
      " [21]\n",
      " [18]\n",
      " [17]\n",
      " [19]\n",
      " [19]\n",
      " [19]\n",
      " [20]\n",
      " [19]\n",
      " [20]\n",
      " [18]\n",
      " [20]\n",
      " [21]\n",
      " [21]\n",
      " [18]\n",
      " [20]\n",
      " [19]\n",
      " [23]\n",
      " [22]\n",
      " [19]\n",
      " [21]\n",
      " [19]\n",
      " [19]\n",
      " [18]\n",
      " [20]\n",
      " [18]\n",
      " [19]\n",
      " [19]\n",
      " [44]\n",
      " [19]\n",
      " [19]\n",
      " [11]\n",
      " [21]\n",
      " [24]\n",
      " [20]\n",
      " [19]\n",
      " [19]\n",
      " [19]\n",
      " [21]\n",
      " [35]\n",
      " [20]\n",
      " [14]\n",
      " [19]\n",
      " [ 7]\n",
      " [20]\n",
      " [18]\n",
      " [16]\n",
      " [15]\n",
      " [19]\n",
      " [22]\n",
      " [40]\n",
      " [16]\n",
      " [22]\n",
      " [19]\n",
      " [19]\n",
      " [33]\n",
      " [20]\n",
      " [20]\n",
      " [41]\n",
      " [20]\n",
      " [19]\n",
      " [20]\n",
      " [45]\n",
      " [20]\n",
      " [21]\n",
      " [21]\n",
      " [20]\n",
      " [19]\n",
      " [19]\n",
      " [19]\n",
      " [11]\n",
      " [21]\n",
      " [21]\n",
      " [20]\n",
      " [21]\n",
      " [20]\n",
      " [19]\n",
      " [19]\n",
      " [20]\n",
      " [15]\n",
      " [ 6]\n",
      " [19]\n",
      " [21]\n",
      " [21]\n",
      " [ 9]\n",
      " [21]\n",
      " [22]\n",
      " [20]\n",
      " [20]]\n",
      "[2 0 0 0 0 0 0 0 0 0 2 0 7 3 0 7 5 0 0 0 7 0 0 0 1 0 0 0 0 2 0 0 0 0 7 0 2\n",
      " 0 0 0 1 0 0 0 0 0 0 0 5 0 3 0 0 0 0 1 0 0 0 0 0 0 0 0 0 0 7 1 2 0 0 3 3 0\n",
      " 0 0 0 0 3 0 0 0 0 0 0 0 0 3 0 0 0 0 0 3 0 6 3 0 6 0 0 0 0 0 0 1 4 0 5 0 0\n",
      " 0 0 0 0 4 0 4 0 1 2 0 0 0 1 4 5 0 1 2 0 0]\n"
     ]
    }
   ],
   "source": [
    "#A4\n",
    "from optparse import Values\n",
    "from sklearn.model_selection import train_test_split\n",
    "X= df.iloc[:, 1:2].values\n",
    "y= df.iloc[:, 8].values\n",
    "X_train, X_test, Y_train, Y_test = train_test_split(X,y, test_size=0.3)\n",
    "print(X_train)\n",
    "print(Y_train)\n"
   ]
  },
  {
   "cell_type": "code",
   "execution_count": 9,
   "metadata": {},
   "outputs": [],
   "source": [
    "from sklearn.model_selection import train_test_split\n",
    "from optparse import Values\n",
    "X=df.iloc[:,1:2].values\n",
    "y=df.iloc[:,8].values\n",
    "X_train, X_test, Y_train, Y_test=train_test_split(X, y, test_size=0.3)"
   ]
  },
  {
   "cell_type": "code",
   "execution_count": 10,
   "metadata": {},
   "outputs": [
    {
     "data": {
      "text/plain": [
       "array([45, 20, 23, 19, 20, 20, 19, 19, 19, 19, 20, 20, 19, 19, 19, 19, 20,\n",
       "       19, 19, 20, 18, 20, 20, 19, 21, 20, 19, 20, 20, 17, 20, 19, 20, 21,\n",
       "       50, 19, 20, 23, 18, 20, 19, 19, 20, 20, 19, 20, 22, 20, 23, 19, 21,\n",
       "       26, 18, 19, 19, 20, 20, 20, 23, 18, 35, 19, 21, 19, 25, 21, 19, 21,\n",
       "       19, 22, 18, 20, 21, 21, 19, 19, 18, 20, 21, 14, 19, 19, 19, 24, 20,\n",
       "       21, 19, 20, 21, 19, 21, 21, 19, 16, 14, 21, 18, 19, 22, 20, 19, 18,\n",
       "       19, 19, 20, 21, 18, 21, 21, 23, 19, 21, 15, 20, 21, 20, 37, 11, 20,\n",
       "       41, 20, 19, 19, 20, 21, 20, 20, 21,  9, 20,  7, 44, 18, 21, 19, 20,\n",
       "       20, 19,  6, 19, 34, 20, 19, 42, 21, 18, 10, 22, 21, 21, 21, 22, 19,\n",
       "       44, 23, 15, 21, 21, 19,  9, 40, 12, 19, 24, 24, 19, 18, 11, 44, 41,\n",
       "       19, 15, 19, 19, 19, 19, 19, 20,  9, 15, 33, 15, 40, 21, 36, 16, 37,\n",
       "       19, 14], dtype=int64)"
      ]
     },
     "execution_count": 10,
     "metadata": {},
     "output_type": "execute_result"
    }
   ],
   "source": [
    "X.ravel()\n"
   ]
  },
  {
   "cell_type": "code",
   "execution_count": 11,
   "metadata": {},
   "outputs": [
    {
     "data": {
      "text/plain": [
       "array([1, 0, 0, 0, 0, 0, 0, 0, 5, 0, 0, 4, 2, 0, 2, 0, 0, 0, 0, 1, 0, 0,\n",
       "       3, 3, 4, 0, 6, 0, 0, 0, 1, 0, 3, 0, 5, 0, 0, 0, 2, 0, 7, 0, 0, 0,\n",
       "       3, 3, 0, 0, 0, 0, 0, 0, 0, 3, 0, 0, 0, 0, 0, 0, 0, 3, 5, 0, 5, 0,\n",
       "       0, 4, 7, 2, 0, 0, 0, 1, 0, 0, 7, 0, 0, 0, 1, 0, 0, 0, 4, 0, 0, 0,\n",
       "       1, 1, 5, 0, 0, 0, 0, 0, 0, 0, 0, 0, 0, 0, 0, 0, 0, 0, 0, 0, 0, 0,\n",
       "       0, 0, 0, 0, 2, 0, 7, 0, 0, 0, 0, 0, 0, 1, 0, 3, 5, 1, 0, 0, 0, 7,\n",
       "       0, 1, 0, 0, 1, 0, 0, 0, 0, 0, 0, 2, 0, 0, 0, 0, 4, 7, 0, 6, 1, 3,\n",
       "       7, 2, 0, 0, 0, 0, 3, 0, 1, 0, 0, 0, 0, 0, 7, 0, 2, 1, 1, 3, 0, 3,\n",
       "       0, 0, 0, 0, 6, 0, 2, 0, 0, 0, 3, 0, 0], dtype=int64)"
      ]
     },
     "execution_count": 11,
     "metadata": {},
     "output_type": "execute_result"
    }
   ],
   "source": [
    "y.ravel()\n"
   ]
  },
  {
   "cell_type": "code",
   "execution_count": 12,
   "metadata": {},
   "outputs": [
    {
     "data": {
      "text/plain": [
       "<matplotlib.collections.PathCollection at 0x226c372b4f0>"
      ]
     },
     "execution_count": 12,
     "metadata": {},
     "output_type": "execute_result"
    },
    {
     "data": {
      "image/png": "[encoded data removed]",
      "text/plain": [
       "<Figure size 640x480 with 1 Axes>"
      ]
     },
     "metadata": {},
     "output_type": "display_data"
    }
   ],
   "source": [
    "plt.scatter(X_train,Y_train)"
   ]
  },
  {
   "cell_type": "code",
   "execution_count": 13,
   "metadata": {},
   "outputs": [
    {
     "data": {
      "text/plain": [
       "<matplotlib.collections.PathCollection at 0x226c379e9e0>"
      ]
     },
     "execution_count": 13,
     "metadata": {},
     "output_type": "execute_result"
    },
    {
     "data": {
      "image/png": "[encoded data removed]",
      "text/plain": [
       "<Figure size 640x480 with 1 Axes>"
      ]
     },
     "metadata": {},
     "output_type": "display_data"
    }
   ],
   "source": [
    "plt.scatter(X,y)"
   ]
  },
  {
   "cell_type": "code",
   "execution_count": 14,
   "metadata": {},
   "outputs": [
    {
     "data": {
      "text/plain": [
       "<matplotlib.collections.PathCollection at 0x226c36f5180>"
      ]
     },
     "execution_count": 14,
     "metadata": {},
     "output_type": "execute_result"
    },
    {
     "data": {
      "image/png": "[encoded data removed]",
      "text/plain": [
       "<Figure size 640x480 with 1 Axes>"
      ]
     },
     "metadata": {},
     "output_type": "display_data"
    }
   ],
   "source": [
    "plt.scatter(X_test,Y_test)"
   ]
  },
  {
   "cell_type": "code",
   "execution_count": 15,
   "metadata": {},
   "outputs": [
    {
     "data": {
      "text/plain": [
       "0.6491228070175439"
      ]
     },
     "execution_count": 15,
     "metadata": {},
     "output_type": "execute_result"
    }
   ],
   "source": [
    "from sklearn.neighbors import KNeighborsClassifier\n",
    "knn = KNeighborsClassifier(n_neighbors=3)\n",
    "knn.fit(X,y)\n",
    "knn.predict(X_test)\n",
    "knn.score(X_test,Y_test)\n"
   ]
  },
  {
   "cell_type": "code",
   "execution_count": 16,
   "metadata": {},
   "outputs": [
    {
     "data": {
      "text/plain": [
       "0.6491228070175439"
      ]
     },
     "execution_count": 16,
     "metadata": {},
     "output_type": "execute_result"
    }
   ],
   "source": [
    "from sklearn.neighbors import KNeighborsClassifier\n",
    "knn = KNeighborsClassifier(n_neighbors=2)\n",
    "knn.fit(X,y)\n",
    "knn.predict(X_test)\n",
    "knn.score(X_test,Y_test)"
   ]
  },
  {
   "cell_type": "code",
   "execution_count": 17,
   "metadata": {},
   "outputs": [
    {
     "name": "stdout",
     "output_type": "stream",
     "text": [
      "Accuracy of kNN classifier: 0.67\n",
      "Predicted labels for the test set: [0 0 0 0 0 0 0 0 0 0 0 0 0 0 0 0 0 0 0 0 0 0 0 0 0 0 0 0 0 0 0 0 7 0 0 0 0\n",
      " 0 0 0 0 0 0 0 0 0 0 0 0 0 0 0 0 0 0 0 0]\n",
      "Predicted class for the test vector [36]: 0\n"
     ]
    }
   ],
   "source": [
    "import pandas as pd\n",
    "import numpy as np\n",
    "from sklearn.model_selection import train_test_split\n",
    "from sklearn.neighbors import KNeighborsClassifier\n",
    "'''\n",
    "# Load the dataset\n",
    "file_path = '/mnt/data/Project Dataset.xlsx'\n",
    "df = pd.read_excel(file_path)'''\n",
    "\n",
    "# Select features (X) and target (y)\n",
    "X = df.iloc[:, 1:2].values  # Selecting the 2nd column for X (feature)\n",
    "y = df.iloc[:, 8].values    # Selecting the 4th column for y (target)\n",
    "\n",
    "# Split the dataset into training and testing sets\n",
    "X_train, X_test, y_train, y_test = train_test_split(X, y, test_size=0.3, random_state=42)\n",
    "\n",
    "# A5: Initialize and train the kNN classifier with k=3\n",
    "knn = KNeighborsClassifier(n_neighbors=3)\n",
    "knn.fit(X_train, y_train)\n",
    "\n",
    "# A6: Test the accuracy of the kNN classifier\n",
    "accuracy = knn.score(X_test, y_test)\n",
    "print(f\"Accuracy of kNN classifier: {accuracy:.2f}\")\n",
    "\n",
    "# A7: Predict the labels for the test set\n",
    "y_pred = knn.predict(X_test)\n",
    "print(\"Predicted labels for the test set:\", y_pred)\n",
    "\n",
    "# A7: Perform classification for a specific test vector\n",
    "# Let's assume you want to predict the class for the first test vector\n",
    "test_vect = X_test[0].reshape(1, -1)  # Reshape to 2D as required by predict()\n",
    "predicted_class = knn.predict(test_vect)\n",
    "print(f\"Predicted class for the test vector {test_vect.flatten()}: {predicted_class[0]}\")\n"
   ]
  },
  {
   "cell_type": "code",
   "execution_count": 18,
   "metadata": {},
   "outputs": [
    {
     "name": "stdout",
     "output_type": "stream",
     "text": [
      "Accuracy of kNN classifier: 0.65\n",
      "Predicted labels for the test set: [2 2 2 2 2 2 2 2 2 2 2 2 2 2 2 2 2 1 2 2 2 2 2 2 2 2 2 2 2 2 1 2 2 2 2 2 2\n",
      " 2 2 2 2 2 1 2 2 2 2 2 2 2 2 2 2 2 2 2 2]\n",
      "Predicted class for the test vector [36]: 2\n"
     ]
    }
   ],
   "source": [
    "import pandas as pd\n",
    "import numpy as np\n",
    "from sklearn.model_selection import train_test_split\n",
    "from sklearn.neighbors import KNeighborsClassifier\n",
    "from sklearn.preprocessing import LabelEncoder\n",
    "\n",
    "\n",
    "# Select features (X) and target (y)\n",
    "X = df.iloc[:, 1:2].values  # Selecting the 2nd column for X (feature)\n",
    "y = df.iloc[:, 3].values    # Selecting the 4th column for y (target)\n",
    "\n",
    "# Convert continuous target variable y to categorical if necessary\n",
    "# Example: Bin the continuous target variable into discrete categories\n",
    "bins = np.linspace(min(y), max(y), 4)  # Example: 3 bins for simplicity\n",
    "y_binned = np.digitize(y, bins)  # Convert y to categorical\n",
    "\n",
    "# Alternatively, if y already represents classes but is continuous, use LabelEncoder\n",
    "# label_encoder = LabelEncoder()\n",
    "# y_binned = label_encoder.fit_transform(y)\n",
    "\n",
    "# Split the dataset into training and testing sets\n",
    "X_train, X_test, y_train, y_test = train_test_split(X, y_binned, test_size=0.3, random_state=42)\n",
    "\n",
    "# A5: Initialize and train the kNN classifier with k=3\n",
    "knn = KNeighborsClassifier(n_neighbors=3)\n",
    "knn.fit(X_train, y_train)\n",
    "\n",
    "# A6: Test the accuracy of the kNN classifier\n",
    "accuracy = knn.score(X_test, y_test)\n",
    "print(f\"Accuracy of kNN classifier: {accuracy:.2f}\")\n",
    "\n",
    "# A7: Predict the labels for the test set\n",
    "y_pred = knn.predict(X_test)\n",
    "print(\"Predicted labels for the test set:\", y_pred)\n",
    "\n",
    "# A7: Perform classification for a specific test vector\n",
    "test_vect = X_test[0].reshape(1, -1)\n",
    "predicted_class = knn.predict(test_vect)\n",
    "print(f\"Predicted class for the test vector {test_vect.flatten()}: {predicted_class[0]}\")\n"
   ]
  },
  {
   "cell_type": "code",
   "execution_count": 19,
   "metadata": {},
   "outputs": [
    {
     "data": {
      "text/plain": [
       "(132,)"
      ]
     },
     "execution_count": 19,
     "metadata": {},
     "output_type": "execute_result"
    }
   ],
   "source": [
    "X_train.shape\n",
    "Y_train.shape"
   ]
  },
  {
   "cell_type": "code",
   "execution_count": 20,
   "metadata": {},
   "outputs": [
    {
     "name": "stdout",
     "output_type": "stream",
     "text": [
      "The accuracy score of train data: 0.7196969696969697\n",
      "The accuracy score of test data: 0.6491228070175439\n",
      "The time taken to get the score of KNN classifier: 0.0020003318786621094\n",
      "The F1 score of training data: 0.66681\n",
      "The F1 score of test data: 0.56471\n",
      "The precision score of training data: 0.63628\n",
      "The precision score of test data: 0.6031\n",
      "[[ 4 12  0]\n",
      " [ 1 33  0]\n",
      " [ 0  7  0]]\n"
     ]
    },
    {
     "name": "stderr",
     "output_type": "stream",
     "text": [
      "c:\\Users\\Hitesh\\AppData\\Local\\Programs\\Python\\Python310\\lib\\site-packages\\sklearn\\metrics\\_classification.py:1334: UndefinedMetricWarning: Precision is ill-defined and being set to 0.0 in labels with no predicted samples. Use `zero_division` parameter to control this behavior.\n",
      "  _warn_prf(average, modifier, msg_start, len(result))\n",
      "c:\\Users\\Hitesh\\AppData\\Local\\Programs\\Python\\Python310\\lib\\site-packages\\sklearn\\metrics\\_classification.py:1334: UndefinedMetricWarning: Precision is ill-defined and being set to 0.0 in labels with no predicted samples. Use `zero_division` parameter to control this behavior.\n",
      "  _warn_prf(average, modifier, msg_start, len(result))\n"
     ]
    }
   ],
   "source": [
    "import time\n",
    "import matplotlib.pyplot as plt\n",
    "from sklearn.neighbors import KNeighborsClassifier\n",
    "from sklearn.metrics import confusion_matrix, f1_score, precision_score, roc_auc_score\n",
    "\n",
    "# Initialize the KNN classifier\n",
    "start = time.time()\n",
    "KNN = KNeighborsClassifier()\n",
    "\n",
    "# Fit the model on training data\n",
    "KNN.fit(X_train, y_train)\n",
    "\n",
    "# Calculate the time taken for fitting the model\n",
    "stop = time.time()\n",
    "\n",
    "# Print the accuracy score for train and test data\n",
    "print(\"The accuracy score of train data:\", KNN.score(X_train, y_train))\n",
    "print(\"The accuracy score of test data:\", KNN.score(X_test, y_test))\n",
    "print(\"The time taken to get the score of KNN classifier:\", stop - start)\n",
    "\n",
    "# Predict the values for test and train data\n",
    "prediction_X_test = KNN.predict(X_test)\n",
    "prediction_X_train = KNN.predict(X_train)\n",
    "\n",
    "# Compute the confusion matrix for the test data\n",
    "cm = confusion_matrix(y_test, prediction_X_test)\n",
    "\n",
    "# Print the F1 score for train and test data\n",
    "print(\"The F1 score of training data:\", round(f1_score(y_train, prediction_X_train, average='weighted'), 5))\n",
    "print(\"The F1 score of test data:\", round(f1_score(y_test, prediction_X_test,average='weighted'), 5))\n",
    "\n",
    "# Print the precision score for train and test data\n",
    "print(\"The precision score of training data:\", round(precision_score(y_train, prediction_X_train,average='weighted'), 5))\n",
    "print(\"The precision score of test data:\", round(precision_score(y_test, prediction_X_test,average='weighted'), 5))\n",
    "'''\n",
    "# Print the ROC AUC score for train and test data\n",
    "print(\"The ROC AUC score of training data:\", round(roc_auc_score(y_train, prediction_X_train,multi_class='ovo'), 5))\n",
    "print(\"The ROC AUC score of test data:\", round(roc_auc_score(y_test, prediction_X_test,multi_class='ovr'), 5))\n",
    "'''\n",
    "# Print the confusion matrix\n",
    "print(cm)\n"
   ]
  },
  {
   "cell_type": "code",
   "execution_count": 21,
   "metadata": {},
   "outputs": [
    {
     "name": "stdout",
     "output_type": "stream",
     "text": [
      "The accuracy score of train data: 0.7196969696969697\n",
      "The accuracy score of test data: 0.6491228070175439\n",
      "The time taken to get the score of KNN classifier: 0.0010008811950683594\n",
      "The F1 score of training data: 0.66681\n",
      "The F1 score of test data: 0.56471\n",
      "The precision score of training data: 0.63628\n",
      "The precision score of test data: 0.6031\n",
      "The F1 score of training data: 0.66681\n",
      "The F1 score of test data: 0.56471\n",
      "The precision score of training data: 0.63628\n",
      "The precision score of test data: 0.6031\n",
      "[[ 4 12  0]\n",
      " [ 1 33  0]\n",
      " [ 0  7  0]]\n"
     ]
    },
    {
     "name": "stderr",
     "output_type": "stream",
     "text": [
      "c:\\Users\\Hitesh\\AppData\\Local\\Programs\\Python\\Python310\\lib\\site-packages\\sklearn\\metrics\\_classification.py:1334: UndefinedMetricWarning: Precision is ill-defined and being set to 0.0 in labels with no predicted samples. Use `zero_division` parameter to control this behavior.\n",
      "  _warn_prf(average, modifier, msg_start, len(result))\n",
      "c:\\Users\\Hitesh\\AppData\\Local\\Programs\\Python\\Python310\\lib\\site-packages\\sklearn\\metrics\\_classification.py:1334: UndefinedMetricWarning: Precision is ill-defined and being set to 0.0 in labels with no predicted samples. Use `zero_division` parameter to control this behavior.\n",
      "  _warn_prf(average, modifier, msg_start, len(result))\n",
      "c:\\Users\\Hitesh\\AppData\\Local\\Programs\\Python\\Python310\\lib\\site-packages\\sklearn\\metrics\\_classification.py:1334: UndefinedMetricWarning: Precision is ill-defined and being set to 0.0 in labels with no predicted samples. Use `zero_division` parameter to control this behavior.\n",
      "  _warn_prf(average, modifier, msg_start, len(result))\n",
      "c:\\Users\\Hitesh\\AppData\\Local\\Programs\\Python\\Python310\\lib\\site-packages\\sklearn\\metrics\\_classification.py:1334: UndefinedMetricWarning: Precision is ill-defined and being set to 0.0 in labels with no predicted samples. Use `zero_division` parameter to control this behavior.\n",
      "  _warn_prf(average, modifier, msg_start, len(result))\n"
     ]
    }
   ],
   "source": [
    "import time\n",
    "import matplotlib.pyplot as plt\n",
    "from sklearn.neighbors import KNeighborsClassifier\n",
    "from sklearn.metrics import confusion_matrix, f1_score, precision_score, roc_auc_score\n",
    "\n",
    "# Initialize the KNN classifier\n",
    "start = time.time()\n",
    "KNN = KNeighborsClassifier()\n",
    "\n",
    "# Fit the model on training data\n",
    "KNN.fit(X_train, y_train)\n",
    "\n",
    "# Calculate the time taken for fitting the model\n",
    "stop = time.time()\n",
    "\n",
    "# Print the accuracy score for train and test data\n",
    "print(\"The accuracy score of train data:\", KNN.score(X_train, y_train))\n",
    "print(\"The accuracy score of test data:\", KNN.score(X_test, y_test))\n",
    "print(\"The time taken to get the score of KNN classifier:\", stop - start)\n",
    "\n",
    "# Predict the values for test and train data\n",
    "prediction_X_test = KNN.predict(X_test)\n",
    "prediction_X_train = KNN.predict(X_train)\n",
    "\n",
    "# Print the F1 score for train and test data\n",
    "print(\"The F1 score of training data:\", round(f1_score(y_train, prediction_X_train, average='weighted'), 5))\n",
    "print(\"The F1 score of test data:\", round(f1_score(y_test, prediction_X_test,average='weighted'), 5))\n",
    "\n",
    "# Print the precision score for train and test data\n",
    "print(\"The precision score of training data:\", round(precision_score(y_train, prediction_X_train,average='weighted'), 5))\n",
    "print(\"The precision score of test data:\", round(precision_score(y_test, prediction_X_test,average='weighted'), 5))\n",
    "\n",
    "# Compute the confusion matrix for the test data\n",
    "cm = confusion_matrix(y_test, prediction_X_test)\n",
    "\n",
    "# Print the F1 score for train and test data\n",
    "print(\"The F1 score of training data:\", round(f1_score(y_train, prediction_X_train, average='weighted'), 5))\n",
    "print(\"The F1 score of test data:\", round(f1_score(y_test, prediction_X_test,average='weighted'), 5))\n",
    "\n",
    "# Print the precision score for train and test data\n",
    "print(\"The precision score of training data:\", round(precision_score(y_train, prediction_X_train,average='weighted'), 5))\n",
    "print(\"The precision score of test data:\", round(precision_score(y_test, prediction_X_test,average='weighted'), 5))\n",
    "'''\n",
    "# Print the ROC AUC score for train and test data\n",
    "print(\"The ROC AUC score of training data:\", round(roc_auc_score(y_train, prediction_X_train,multi_class='ovo'), 5))\n",
    "print(\"The ROC AUC score of test data:\", round(roc_auc_score(y_test, prediction_X_test,multi_class='ovr'), 5))\n",
    "'''\n",
    "# Print the confusion matrix\n",
    "print(cm)\n"
   ]
  },
  {
   "cell_type": "code",
   "execution_count": 22,
   "metadata": {},
   "outputs": [
    {
     "name": "stdout",
     "output_type": "stream",
     "text": [
      "[2 2 1 2 2 2 2 2 2 2 2 2 2 2 2 2 2 2 2 2 2 2 2 2 2 2 2 2 2 2 2 2 2 2 2 2 2\n",
      " 1 2 2 2 2 2 2 2 2 2 2 1 2 2 2 2 2 2 2 2 2 1 2 2 2 2 2 2 2 2 2 2 2 2 2 2 2\n",
      " 2 2 2 2 2 1 2 2 2 2 2 2 2 2 2 2 2 2 2 1 1 2 2 2 2 2 2 2 2 2 2 2 2 2 2 1 2\n",
      " 2 1 2 2 2 2 1 2 2 2 2 2 2 2 2 2 2 1 2 1 2 2 2 2 2 2 2 1 2 2 2 2 2 2 2 1 2\n",
      " 2 2 2 2 2 2 1 1 2 2 2 1 2 1 2 2 2 2 2 1 2 2 2 1 2 2 2 2 2 2 1 1 2 1 2 2 2\n",
      " 1 2 2 1]\n"
     ]
    },
    {
     "data": {
      "image/png": "[encoded data removed]",
      "text/plain": [
       "<Figure size 640x480 with 1 Axes>"
      ]
     },
     "metadata": {},
     "output_type": "display_data"
    }
   ],
   "source": [
    "#A5\n",
    "from sklearn.neighbors import KNeighborsClassifier\n",
    "knn = KNeighborsClassifier(n_neighbors=3)\n",
    "knn.fit(X_train,y_train)\n",
    "print(knn.predict(X))\n",
    "plt.scatter(X,y)\n",
    "knn.predict(X_test)\n",
    "plt.show()"
   ]
  }
 ],
 "metadata": {
  "kernelspec": {
   "display_name": "Python 3.10.2 64-bit",
   "language": "python",
   "name": "python3"
  },
  "language_info": {
   "codemirror_mode": {
    "name": "ipython",
    "version": 3
   },
   "file_extension": ".py",
   "mimetype": "text/x-python",
   "name": "python",
   "nbconvert_exporter": "python",
   "pygments_lexer": "ipython3",
   "version": "3.10.2"
  },
  "orig_nbformat": 4,
  "vscode": {
   "interpreter": {
    "hash": "070028ba1342e166cb73fb497b35572113484a2ef1bea3a29a8945b00241d4de"
   }
  }
 },
 "nbformat": 4,
 "nbformat_minor": 2
}
